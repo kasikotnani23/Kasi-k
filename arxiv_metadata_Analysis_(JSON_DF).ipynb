{
  "cells": [
    {
      "cell_type": "markdown",
      "metadata": {
        "id": "view-in-github",
        "colab_type": "text"
      },
      "source": [
        "<a href=\"https://colab.research.google.com/github/kasikotnani23/Kasi-k/blob/main/arxiv_metadata_Analysis_(JSON_DF).ipynb\" target=\"_parent\"><img src=\"https://colab.research.google.com/assets/colab-badge.svg\" alt=\"Open In Colab\"/></a>"
      ]
    },
    {
      "cell_type": "markdown",
      "metadata": {
        "id": "rKV4p61s_KsL"
      },
      "source": [
        "# **Arxiv metadata Analytics with PySpark DF: JSON case study**\n",
        "\n",
        "### Udemy Course: Best Hands-on Big Data Practices and Use Cases using PySpark\n",
        "\n",
        "### Author: Amin Karami (PhD, FHEA)\n",
        "#### email: amin.karami@ymail.com"
      ]
    },
    {
      "cell_type": "code",
      "execution_count": 1,
      "metadata": {
        "id": "r6LNmQMY_KsP",
        "colab": {
          "base_uri": "https://localhost:8080/"
        },
        "outputId": "a49345e5-4608-4850-a45c-ce43806db1da"
      },
      "outputs": [
        {
          "output_type": "stream",
          "name": "stdout",
          "text": [
            "Looking in indexes: https://pypi.org/simple, https://us-python.pkg.dev/colab-wheels/public/simple/\n",
            "Collecting pyspark\n",
            "  Downloading pyspark-3.3.2.tar.gz (281.4 MB)\n",
            "\u001b[2K     \u001b[90m━━━━━━━━━━━━━━━━━━━━━━━━━━━━━━━━━━━━━━━\u001b[0m \u001b[32m281.4/281.4 MB\u001b[0m \u001b[31m4.1 MB/s\u001b[0m eta \u001b[36m0:00:00\u001b[0m\n",
            "\u001b[?25h  Preparing metadata (setup.py) ... \u001b[?25l\u001b[?25hdone\n",
            "Collecting py4j==0.10.9.5\n",
            "  Downloading py4j-0.10.9.5-py2.py3-none-any.whl (199 kB)\n",
            "\u001b[2K     \u001b[90m━━━━━━━━━━━━━━━━━━━━━━━━━━━━━━━━━━━━━━\u001b[0m \u001b[32m199.7/199.7 KB\u001b[0m \u001b[31m14.3 MB/s\u001b[0m eta \u001b[36m0:00:00\u001b[0m\n",
            "\u001b[?25hBuilding wheels for collected packages: pyspark\n",
            "  Building wheel for pyspark (setup.py) ... \u001b[?25l\u001b[?25hdone\n",
            "  Created wheel for pyspark: filename=pyspark-3.3.2-py2.py3-none-any.whl size=281824028 sha256=537f9bb88bcac2d9bbfe8ed561f1ee4cf75d52d7582b9db51f9d657edb1c0f38\n",
            "  Stored in directory: /root/.cache/pip/wheels/6c/e3/9b/0525ce8a69478916513509d43693511463c6468db0de237c86\n",
            "Successfully built pyspark\n",
            "Installing collected packages: py4j, pyspark\n",
            "  Attempting uninstall: py4j\n",
            "    Found existing installation: py4j 0.10.9.7\n",
            "    Uninstalling py4j-0.10.9.7:\n",
            "      Successfully uninstalled py4j-0.10.9.7\n",
            "Successfully installed py4j-0.10.9.5 pyspark-3.3.2\n"
          ]
        }
      ],
      "source": [
        "########## ONLY in Colab ##########\n",
        "!pip3 install pyspark\n",
        "########## ONLY in Colab ##########"
      ]
    },
    {
      "cell_type": "code",
      "execution_count": 2,
      "metadata": {
        "id": "3YlWY9fC_KsR",
        "colab": {
          "base_uri": "https://localhost:8080/",
          "height": 219
        },
        "outputId": "0f9a2be8-86da-410f-89c7-676e61239fe0"
      },
      "outputs": [
        {
          "output_type": "execute_result",
          "data": {
            "text/plain": [
              "<pyspark.sql.session.SparkSession at 0x7fdb505ee2e0>"
            ],
            "text/html": [
              "\n",
              "            <div>\n",
              "                <p><b>SparkSession - in-memory</b></p>\n",
              "                \n",
              "        <div>\n",
              "            <p><b>SparkContext</b></p>\n",
              "\n",
              "            <p><a href=\"http://32c1767b5e18:4040\">Spark UI</a></p>\n",
              "\n",
              "            <dl>\n",
              "              <dt>Version</dt>\n",
              "                <dd><code>v3.3.2</code></dd>\n",
              "              <dt>Master</dt>\n",
              "                <dd><code>local[*]</code></dd>\n",
              "              <dt>AppName</dt>\n",
              "                <dd><code>pyspark-shell</code></dd>\n",
              "            </dl>\n",
              "        </div>\n",
              "        \n",
              "            </div>\n",
              "        "
            ]
          },
          "metadata": {},
          "execution_count": 2
        }
      ],
      "source": [
        "# import SparkSession\n",
        "from pyspark.sql import SparkSession\n",
        "spark = SparkSession.builder.master(\"local[*]\").getOrCreate()\n",
        "spark\n"
      ]
    },
    {
      "cell_type": "code",
      "execution_count": 49,
      "metadata": {
        "id": "9Z3p3JFE_KsS",
        "colab": {
          "base_uri": "https://localhost:8080/"
        },
        "outputId": "9b65d5a1-2c1c-46c7-f1a3-297501946f62"
      },
      "outputs": [
        {
          "output_type": "stream",
          "name": "stdout",
          "text": [
            "root\n",
            " |-- abstract: string (nullable = true)\n",
            " |-- authors: string (nullable = true)\n",
            " |-- authors_parsed: array (nullable = true)\n",
            " |    |-- element: array (containsNull = true)\n",
            " |    |    |-- element: string (containsNull = true)\n",
            " |-- categories: string (nullable = true)\n",
            " |-- comments: string (nullable = true)\n",
            " |-- doi: string (nullable = true)\n",
            " |-- id: string (nullable = true)\n",
            " |-- journal-ref: string (nullable = true)\n",
            " |-- license: string (nullable = true)\n",
            " |-- report-no: string (nullable = true)\n",
            " |-- submitter: string (nullable = true)\n",
            " |-- title: string (nullable = true)\n",
            " |-- update_date: string (nullable = true)\n",
            " |-- versions: array (nullable = true)\n",
            " |    |-- element: struct (containsNull = true)\n",
            " |    |    |-- created: string (nullable = true)\n",
            " |    |    |-- version: string (nullable = true)\n",
            "\n"
          ]
        }
      ],
      "source": [
        "# Read and Load Data to Spark\n",
        "df = spark.read.format('json').load(\"/content/drive/MyDrive/Colab Notebooks/arxiv-metadata-oai-snapshot.json\")\n",
        "df.printSchema()"
      ]
    },
    {
      "cell_type": "code",
      "source": [
        "from google.colab import drive\n",
        "drive.mount('/content/drive')"
      ],
      "metadata": {
        "colab": {
          "base_uri": "https://localhost:8080/"
        },
        "id": "cOhk4FFM-ePJ",
        "outputId": "fe7cb07c-abb0-4941-af0d-3161f66925ec"
      },
      "execution_count": 36,
      "outputs": [
        {
          "output_type": "stream",
          "name": "stdout",
          "text": [
            "Drive already mounted at /content/drive; to attempt to forcibly remount, call drive.mount(\"/content/drive\", force_remount=True).\n"
          ]
        }
      ]
    },
    {
      "cell_type": "code",
      "execution_count": 50,
      "metadata": {
        "id": "viS8zgdO_KsT",
        "colab": {
          "base_uri": "https://localhost:8080/"
        },
        "outputId": "50b1e24c-40c8-4e48-929c-774adf422d50"
      },
      "outputs": [
        {
          "output_type": "stream",
          "name": "stdout",
          "text": [
            "25\n",
            "+--------------------+--------------------+--------------------+---------------+--------------------+--------------------+---------+--------------------+--------------------+----------------+------------------+--------------------+-----------+--------------------+\n",
            "|            abstract|             authors|      authors_parsed|     categories|            comments|                 doi|       id|         journal-ref|             license|       report-no|         submitter|               title|update_date|            versions|\n",
            "+--------------------+--------------------+--------------------+---------------+--------------------+--------------------+---------+--------------------+--------------------+----------------+------------------+--------------------+-----------+--------------------+\n",
            "|  A fully differe...|C. Bal\\'azs, E. L...|[[Balázs, C., ], ...|         hep-ph|37 pages, 15 figu...|10.1103/PhysRevD....|0704.0001|Phys.Rev.D76:0130...|                null|ANL-HEP-PR-07-12|    Pavel Nadolsky|Calculation of pr...| 2008-11-26|[{Mon, 2 Apr 2007...|\n",
            "|  We describe a n...|Ileana Streinu an...|[[Streinu, Ileana...|  math.CO cs.CG|To appear in Grap...|                null|0704.0002|                null|http://arxiv.org/...|            null|      Louis Theran|Sparsity-certifyi...| 2008-12-13|[{Sat, 31 Mar 200...|\n",
            "|  The evolution o...|         Hongjun Pan|  [[Pan, Hongjun, ]]| physics.gen-ph| 23 pages, 3 figures|                null|0704.0003|                null|                null|            null|       Hongjun Pan|The evolution of ...| 2008-01-13|[{Sun, 1 Apr 2007...|\n",
            "|  We show that a ...|        David Callan| [[Callan, David, ]]|        math.CO|            11 pages|                null|0704.0004|                null|                null|            null|      David Callan|A determinant of ...| 2007-05-23|[{Sat, 31 Mar 200...|\n",
            "|  In this paper w...|Wael Abu-Shammala...|[[Abu-Shammala, W...|math.CA math.FA|                null|                null|0704.0005|Illinois J. Math....|                null|            null|Alberto Torchinsky|From dyadic $\\Lam...| 2013-10-15|[{Mon, 2 Apr 2007...|\n",
            "+--------------------+--------------------+--------------------+---------------+--------------------+--------------------+---------+--------------------+--------------------+----------------+------------------+--------------------+-----------+--------------------+\n",
            "only showing top 5 rows\n",
            "\n"
          ]
        }
      ],
      "source": [
        "# check the partitions\n",
        "print(df.rdd.getNumPartitions())\n",
        "df.show(5)"
      ]
    },
    {
      "cell_type": "markdown",
      "metadata": {
        "id": "m2ivGTrR_KsU"
      },
      "source": [
        "## Question 1: Create a new Schema"
      ]
    },
    {
      "cell_type": "code",
      "execution_count": 51,
      "metadata": {
        "id": "x9AS1Xz__KsU",
        "colab": {
          "base_uri": "https://localhost:8080/"
        },
        "outputId": "7d0535d1-5db6-4f96-d7d7-dbe98cd14b1d"
      },
      "outputs": [
        {
          "output_type": "stream",
          "name": "stdout",
          "text": [
            "StructType([StructField('abstract', StringType(), True), StructField('authors', StringType(), True), StructField('categories', StringType(), True), StructField('comments', StringType(), True), StructField('id', StringType(), True), StructField('versions', ArrayType(StringType(), True), True), StructField('license', StringType(), True)])\n"
          ]
        }
      ],
      "source": [
        "from pyspark.sql.types import *\n",
        "\n",
        "Schema = StructType([\n",
        "                     StructField('abstract',StringType(),True),\n",
        "                     StructField('authors',StringType(),True),\n",
        "                     StructField('categories',StringType(),True),\n",
        "                     StructField('comments',StringType(),True),\n",
        "                     StructField('id',StringType(),True), \n",
        "                     StructField('versions',ArrayType(StringType()),True),\n",
        "                     StructField('license',StringType(),True)\n",
        "    ])\n",
        "\n",
        "print(Schema)"
      ]
    },
    {
      "cell_type": "markdown",
      "metadata": {
        "id": "0nqC42SY_KsV"
      },
      "source": [
        "## Question 2: Binding Data to a Schema"
      ]
    },
    {
      "cell_type": "code",
      "execution_count": 56,
      "metadata": {
        "id": "4n3RZ0te_KsW",
        "colab": {
          "base_uri": "https://localhost:8080/"
        },
        "outputId": "6a2fbf08-b916-4085-b97d-af53e549038f"
      },
      "outputs": [
        {
          "output_type": "stream",
          "name": "stdout",
          "text": [
            "+--------------------+--------------------+---------------+--------------------+---------+--------------------+--------------------+\n",
            "|            abstract|             authors|     categories|            comments|       id|            versions|             license|\n",
            "+--------------------+--------------------+---------------+--------------------+---------+--------------------+--------------------+\n",
            "|  A fully differe...|C. Bal\\'azs, E. L...|         hep-ph|37 pages, 15 figu...|0704.0001|[{\"version\":\"v1\",...|                null|\n",
            "|  We describe a n...|Ileana Streinu an...|  math.CO cs.CG|To appear in Grap...|0704.0002|[{\"version\":\"v1\",...|http://arxiv.org/...|\n",
            "|  The evolution o...|         Hongjun Pan| physics.gen-ph| 23 pages, 3 figures|0704.0003|[{\"version\":\"v1\",...|                null|\n",
            "|  We show that a ...|        David Callan|        math.CO|            11 pages|0704.0004|[{\"version\":\"v1\",...|                null|\n",
            "|  In this paper w...|Wael Abu-Shammala...|math.CA math.FA|                null|0704.0005|[{\"version\":\"v1\",...|                null|\n",
            "+--------------------+--------------------+---------------+--------------------+---------+--------------------+--------------------+\n",
            "only showing top 5 rows\n",
            "\n"
          ]
        }
      ],
      "source": [
        "df = spark.read.json(\"/content/drive/MyDrive/Colab Notebooks/arxiv-metadata-oai-snapshot.json\",schema = Schema)\n",
        "df.show(5)"
      ]
    },
    {
      "cell_type": "markdown",
      "metadata": {
        "id": "rrizNbnA_KsW"
      },
      "source": [
        "## Question 3: Missing values for \"comments\" and \"license\" attributes"
      ]
    },
    {
      "cell_type": "code",
      "execution_count": 53,
      "metadata": {
        "id": "BElSJl-T_KsX",
        "colab": {
          "base_uri": "https://localhost:8080/"
        },
        "outputId": "fa47fe04-909b-435b-86f2-5b5379cfcfd3"
      },
      "outputs": [
        {
          "output_type": "stream",
          "name": "stdout",
          "text": [
            "+--------------------+--------------------+--------------------+--------------------+---------+--------------------+--------------------+\n",
            "|            abstract|             authors|          categories|            comments|       id|            versions|             license|\n",
            "+--------------------+--------------------+--------------------+--------------------+---------+--------------------+--------------------+\n",
            "|  A fully differe...|C. Bal\\'azs, E. L...|              hep-ph|37 pages, 15 figu...|0704.0001|[{\"version\":\"v1\",...|             unknown|\n",
            "|  We describe a n...|Ileana Streinu an...|       math.CO cs.CG|To appear in Grap...|0704.0002|[{\"version\":\"v1\",...|http://arxiv.org/...|\n",
            "|  The evolution o...|         Hongjun Pan|      physics.gen-ph| 23 pages, 3 figures|0704.0003|[{\"version\":\"v1\",...|             unknown|\n",
            "|  We show that a ...|        David Callan|             math.CO|            11 pages|0704.0004|[{\"version\":\"v1\",...|             unknown|\n",
            "|  We study the tw...|Y. H. Pong and C....|   cond-mat.mes-hall|6 pages, 4 figure...|0704.0006|[{\"version\":\"v1\",...|             unknown|\n",
            "|  A rather non-st...|Alejandro Corichi...|               gr-qc|16 pages, no figu...|0704.0007|[{\"version\":\"v1\",...|             unknown|\n",
            "|  A general formu...|     Damian C. Swift|   cond-mat.mtrl-sci|   Minor corrections|0704.0008|[{\"version\":\"v1\",...|http://arxiv.org/...|\n",
            "|  Partial cubes a...|  Sergei Ovchinnikov|             math.CO|36 pages, 17 figures|0704.0010|[{\"version\":\"v1\",...|             unknown|\n",
            "|  In this paper w...|Clifton Cunningha...|     math.NT math.AG|14 pages; title c...|0704.0011|[{\"version\":\"v1\",...|http://arxiv.org/...|\n",
            "|  In this article...|        Koichi Fujii|     math.CA math.AT|  18 pages, 1 figure|0704.0014|[{\"version\":\"v1\",...|             unknown|\n",
            "|  The pure spinor...|     Christian Stahn|              hep-th|22 pages; signs a...|0704.0015|[{\"version\":\"v1\",...|             unknown|\n",
            "|  In this work, w...|Chao-Hsi Chang, T...|              hep-ph|17 pages, 3 figur...|0704.0016|[{\"version\":\"v1\",...|             unknown|\n",
            "|  Results from sp...|Nceba Mhlahlo, Da...|            astro-ph|10 pages, 11 figu...|0704.0017|[{\"version\":\"v1\",...|             unknown|\n",
            "|  We give a presc...|  Andreas Gustavsson|              hep-th|20 pages, v2: an ...|0704.0018|[{\"version\":\"v1\",...|             unknown|\n",
            "|  In this note we...|         Norio Konno|     math.PR math.AG|6 pages, Journal-...|0704.0019|[{\"version\":\"v1\",...|             unknown|\n",
            "|  The shape of th...|The BABAR Collabo...|              hep-ex|21 pages, 13 post...|0704.0020|[{\"version\":\"v1\",...|             unknown|\n",
            "|  Spatiotemporal ...|Vanessa Casagrand...|nlin.PS physics.c...|  5 pages, 4 figures|0704.0021|[{\"version\":\"v1\",...|             unknown|\n",
            "|  We present Lie ...|Simon J.A. Malham...|             math.NA| 20 pages, 4 figures|0704.0022|[{\"version\":\"v1\",...|             unknown|\n",
            "|  The very nature...|M. A. Loukitcheva...|            astro-ph|4 pages, 2 figure...|0704.0023|[{\"version\":\"v1\",...|             unknown|\n",
            "|  The formation o...|A.A. Serga, M. Ko...|             nlin.PS|First appeared in...|0704.0024|[{\"version\":\"v1\",...|             unknown|\n",
            "+--------------------+--------------------+--------------------+--------------------+---------+--------------------+--------------------+\n",
            "only showing top 20 rows\n",
            "\n"
          ]
        }
      ],
      "source": [
        "df = df.dropna(subset=[\"comments\"])\n",
        "df = df.na.fill({\"license\": \"unknown\"}) \n",
        "#df = df.fillna(value = \"unknown\",subset = [\"license\"])\n",
        "df.show()\n"
      ]
    },
    {
      "cell_type": "markdown",
      "metadata": {
        "id": "XiAO1VYb_KsX"
      },
      "source": [
        "## Question 4: Get the author names who published a paper in a 'math' category"
      ]
    },
    {
      "cell_type": "code",
      "execution_count": 54,
      "metadata": {
        "id": "le9Cfbnk_KsY",
        "colab": {
          "base_uri": "https://localhost:8080/"
        },
        "outputId": "ae5a335f-7320-47f9-bd2c-dd09810b53d9"
      },
      "outputs": [
        {
          "output_type": "stream",
          "name": "stdout",
          "text": [
            "+--------------------+\n",
            "|             authors|\n",
            "+--------------------+\n",
            "|Ileana Streinu an...|\n",
            "|        David Callan|\n",
            "|  Sergei Ovchinnikov|\n",
            "|Clifton Cunningha...|\n",
            "|        Koichi Fujii|\n",
            "|         Norio Konno|\n",
            "|Simon J.A. Malham...|\n",
            "|Robert P. C. de M...|\n",
            "|  P\\'eter E. Frenkel|\n",
            "|          Mihai Popa|\n",
            "|   Debashish Goswami|\n",
            "|      Mikkel {\\O}bro|\n",
            "|Nabil L. Youssef,...|\n",
            "|         Boris Rubin|\n",
            "|         A. I. Molev|\n",
            "| Branko J. Malesevic|\n",
            "|   John W. Robertson|\n",
            "|     Yu.N. Kosovtsov|\n",
            "|        Osamu Fujino|\n",
            "|Stephen C. Power ...|\n",
            "+--------------------+\n",
            "only showing top 20 rows\n",
            "\n"
          ]
        }
      ],
      "source": [
        "from pyspark.sql.column import *\n",
        "#df.createOrReplaceGlobalTempView(\"table1\")\n",
        "#sql_query = \"\"\" select authors from table1 where categories like math% \"\"\"\n",
        "#spark.sql(sql_query).show()\n",
        "#df = df.selectExpr(\"authors\").filter(\"categories like 'math%'\").show()\n",
        "\n",
        "df = df.select(\"authors\").filter(\"categories like 'math%'\").show()\n"
      ]
    },
    {
      "cell_type": "markdown",
      "metadata": {
        "id": "Y5thkuIv_KsY"
      },
      "source": [
        "## Question 5: Get linceses with 5 or more letters in the \"abstract\""
      ]
    },
    {
      "cell_type": "code",
      "execution_count": 60,
      "metadata": {
        "id": "B7LLuIkk_KsZ",
        "colab": {
          "base_uri": "https://localhost:8080/"
        },
        "outputId": "2ac033ca-25de-4800-f324-220be171314c"
      },
      "outputs": [
        {
          "output_type": "stream",
          "name": "stdout",
          "text": [
            "+--------------------+\n",
            "|             license|\n",
            "+--------------------+\n",
            "|http://arxiv.org/...|\n",
            "|http://creativeco...|\n",
            "|http://creativeco...|\n",
            "|http://creativeco...|\n",
            "|http://creativeco...|\n",
            "|                null|\n",
            "+--------------------+\n",
            "\n",
            "6\n"
          ]
        }
      ],
      "source": [
        "df.createOrReplaceTempView(\"Archive\")\n",
        "\n",
        "#sql_query = \"\"\" SELECT authors FROM ArchiveWHERE categories LIKE 'math%'\"\"\"\n",
        "sql_query= \"\"\" SELECT distinct(license) from Archive where abstract REGEXP '%\\(([A-Za-z][^_ /\\\\<>]{5,})\\)%'\"\"\"\n",
        "\n",
        "spark.sql(sql_query).show()\n",
        "\n",
        "print(spark.sql(sql_query).count())"
      ]
    },
    {
      "cell_type": "markdown",
      "metadata": {
        "id": "hjELziqH_KsZ"
      },
      "source": [
        "## Question 6: Extract the statistic of the number of pages for unknown licenses"
      ]
    },
    {
      "cell_type": "code",
      "execution_count": 61,
      "metadata": {
        "id": "B1DYmkI8_KsZ",
        "colab": {
          "base_uri": "https://localhost:8080/"
        },
        "outputId": "250da581-e9e7-42f3-898d-a55165f30cfb"
      },
      "outputs": [
        {
          "output_type": "stream",
          "name": "stdout",
          "text": [
            "+----+----+----+\n",
            "| avg| sum| std|\n",
            "+----+----+----+\n",
            "|null|null|null|\n",
            "+----+----+----+\n",
            "\n"
          ]
        }
      ],
      "source": [
        "import re\n",
        "def get_Page(line):\n",
        "    search = re.findall('\\d+ pages', line)\n",
        "    if search:\n",
        "        return int(search[0].split(\" \")[0])\n",
        "    else:\n",
        "        return 0\n",
        "\n",
        "    \n",
        "spark.udf.register(\"PageNumbers\", get_Page)\n",
        "\n",
        "sql_query = \"\"\"SELECT AVG(PageNumbers(comments)) AS avg, SUM(PageNumbers(comments)) AS sum,\n",
        "                STD(PageNumbers(comments)) AS std\n",
        "                FROM Archive\n",
        "                WHERE license=\"unknown\"\n",
        "            \"\"\"\n",
        "\n",
        "spark.sql(sql_query).show()"
      ]
    }
  ],
  "metadata": {
    "kernelspec": {
      "display_name": "Python 3",
      "language": "python",
      "name": "python3"
    },
    "language_info": {
      "codemirror_mode": {
        "name": "ipython",
        "version": 3
      },
      "file_extension": ".py",
      "mimetype": "text/x-python",
      "name": "python",
      "nbconvert_exporter": "python",
      "pygments_lexer": "ipython3",
      "version": "3.8.3"
    },
    "colab": {
      "provenance": [],
      "include_colab_link": true
    }
  },
  "nbformat": 4,
  "nbformat_minor": 0
}