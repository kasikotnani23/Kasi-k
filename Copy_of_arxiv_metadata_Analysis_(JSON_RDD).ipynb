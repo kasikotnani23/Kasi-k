{
  "cells": [
    {
      "cell_type": "markdown",
      "metadata": {
        "id": "view-in-github",
        "colab_type": "text"
      },
      "source": [
        "<a href=\"https://colab.research.google.com/github/kasikotnani23/Kasi-k/blob/main/Copy_of_arxiv_metadata_Analysis_(JSON_RDD).ipynb\" target=\"_parent\"><img src=\"https://colab.research.google.com/assets/colab-badge.svg\" alt=\"Open In Colab\"/></a>"
      ]
    },
    {
      "cell_type": "markdown",
      "metadata": {
        "id": "9nrTNalW81Uo"
      },
      "source": [
        "# **Arxiv metadata Analytics with PySpark RDD: JSON case study**\n",
        "\n",
        "### Udemy Course: Best Hands-on Big Data Practices and Use Cases using PySpark\n",
        "\n",
        "### Author: Amin Karami (PhD, FHEA)\n",
        "#### email: amin.karami@ymail.com"
      ]
    },
    {
      "cell_type": "code",
      "execution_count": null,
      "metadata": {
        "id": "ghTJybh281Ur",
        "colab": {
          "base_uri": "https://localhost:8080/"
        },
        "outputId": "915e7751-c307-462d-b75e-bb071386cfb8"
      },
      "outputs": [
        {
          "output_type": "stream",
          "name": "stdout",
          "text": [
            "Looking in indexes: https://pypi.org/simple, https://us-python.pkg.dev/colab-wheels/public/simple/\n",
            "Collecting pyspark\n",
            "  Using cached pyspark-3.3.2.tar.gz (281.4 MB)\n",
            "  Preparing metadata (setup.py) ... \u001b[?25l\u001b[?25hdone\n",
            "Collecting py4j==0.10.9.5\n",
            "  Using cached py4j-0.10.9.5-py2.py3-none-any.whl (199 kB)\n",
            "Building wheels for collected packages: pyspark\n",
            "  Building wheel for pyspark (setup.py) ... \u001b[?25l\u001b[?25hdone\n",
            "  Created wheel for pyspark: filename=pyspark-3.3.2-py2.py3-none-any.whl size=281824028 sha256=c58e0537bffa02c3d67068ef8c2bf690296c0726703b590ed5bafe811681fc24\n",
            "  Stored in directory: /root/.cache/pip/wheels/6c/e3/9b/0525ce8a69478916513509d43693511463c6468db0de237c86\n",
            "Successfully built pyspark\n",
            "Installing collected packages: py4j, pyspark\n",
            "  Attempting uninstall: py4j\n",
            "    Found existing installation: py4j 0.10.9.7\n",
            "    Uninstalling py4j-0.10.9.7:\n",
            "      Successfully uninstalled py4j-0.10.9.7\n",
            "Successfully installed py4j-0.10.9.5 pyspark-3.3.2\n"
          ]
        }
      ],
      "source": [
        "########## ONLY in Colab ##########\n",
        "!pip3 install pyspark\n",
        "########## ONLY in Colab ##########"
      ]
    },
    {
      "cell_type": "code",
      "execution_count": null,
      "metadata": {
        "id": "06d5GLeN81Ut",
        "colab": {
          "base_uri": "https://localhost:8080/"
        },
        "outputId": "18cbebfc-4b98-4bff-8025-1602e836ab9b"
      },
      "outputs": [
        {
          "output_type": "stream",
          "name": "stdout",
          "text": [
            "<SparkContext master=local[*] appName=first>\n"
          ]
        }
      ],
      "source": [
        "# Initializing Spark\n",
        "from pyspark import SparkConf,SparkContext\n",
        "conf = SparkConf().setAppName(\"first\").setMaster(\"local[*]\")\n",
        "sc = SparkContext(conf = conf)\n",
        "print(sc)"
      ]
    },
    {
      "cell_type": "code",
      "source": [
        "from google.colab import drive\n",
        "drive.mount('/content/drive')"
      ],
      "metadata": {
        "colab": {
          "base_uri": "https://localhost:8080/"
        },
        "id": "_c0-eQhM_fda",
        "outputId": "ca5a1792-3a40-4721-95c6-41935eedbc36"
      },
      "execution_count": null,
      "outputs": [
        {
          "output_type": "stream",
          "name": "stdout",
          "text": [
            "Mounted at /content/drive\n"
          ]
        }
      ]
    },
    {
      "cell_type": "code",
      "execution_count": null,
      "metadata": {
        "id": "UGorHKN581Uu",
        "colab": {
          "base_uri": "https://localhost:8080/"
        },
        "outputId": "0837623c-31f4-4a3f-98af-eec8b8240af5"
      },
      "outputs": [
        {
          "output_type": "execute_result",
          "data": {
            "text/plain": [
              "PythonRDD[2] at RDD at PythonRDD.scala:53"
            ]
          },
          "metadata": {},
          "execution_count": 4
        }
      ],
      "source": [
        "# Read and Load Data to Spark\n",
        "# Data source: https://www.kaggle.com/Cornell-University/arxiv/version/62\n",
        "import json\n",
        "from pyspark import StorageLevel\n",
        "rdd_json = sc.textFile(\"/content/drive/MyDrive/Colab Notebooks/arxiv-metadata-oai-snapshot.json\",100)\n",
        "rdd = rdd_json.map(lambda x : json.loads (x))\n",
        "rdd.persist()\n",
        "\n"
      ]
    },
    {
      "cell_type": "code",
      "execution_count": null,
      "metadata": {
        "id": "6O_dV30S81Uu",
        "colab": {
          "base_uri": "https://localhost:8080/"
        },
        "outputId": "bda95ca4-e60b-4b7a-a7d1-cac927d293a2"
      },
      "outputs": [
        {
          "output_type": "stream",
          "name": "stdout",
          "text": [
            "100\n",
            "2\n",
            "2\n"
          ]
        }
      ],
      "source": [
        "# Check the number of parallelism and partitions:\n",
        "print(rdd.getNumPartitions())\n",
        "print(sc.defaultParallelism)\n",
        "print(sc.defaultMinPartitions)\n"
      ]
    },
    {
      "cell_type": "markdown",
      "metadata": {
        "id": "uBgW8XMl81Uv"
      },
      "source": [
        "## Question 1: Count elements"
      ]
    },
    {
      "cell_type": "code",
      "execution_count": null,
      "metadata": {
        "id": "NzJeaegJ81Uw",
        "colab": {
          "base_uri": "https://localhost:8080/"
        },
        "outputId": "eba6ea1e-2455-42cc-b11f-e18fb1d2d412"
      },
      "outputs": [
        {
          "output_type": "execute_result",
          "data": {
            "text/plain": [
              "2011231"
            ]
          },
          "metadata": {},
          "execution_count": 6
        }
      ],
      "source": [
        "rdd.count()"
      ]
    },
    {
      "cell_type": "markdown",
      "metadata": {
        "id": "zl7nmy6S81Uw"
      },
      "source": [
        "## Question 2: Get the first two records\n"
      ]
    },
    {
      "cell_type": "code",
      "execution_count": 8,
      "metadata": {
        "id": "HG1ypizS81Ux",
        "colab": {
          "base_uri": "https://localhost:8080/"
        },
        "outputId": "ac10c2ad-0add-4046-9456-32337e625f99"
      },
      "outputs": [
        {
          "output_type": "stream",
          "name": "stdout",
          "text": [
            "[{'id': '0704.0001', 'submitter': 'Pavel Nadolsky', 'authors': \"C. Bal\\\\'azs, E. L. Berger, P. M. Nadolsky, C.-P. Yuan\", 'title': 'Calculation of prompt diphoton production cross sections at Tevatron and\\n  LHC energies', 'comments': '37 pages, 15 figures; published version', 'journal-ref': 'Phys.Rev.D76:013009,2007', 'doi': '10.1103/PhysRevD.76.013009', 'report-no': 'ANL-HEP-PR-07-12', 'categories': 'hep-ph', 'license': None, 'abstract': '  A fully differential calculation in perturbative quantum chromodynamics is\\npresented for the production of massive photon pairs at hadron colliders. All\\nnext-to-leading order perturbative contributions from quark-antiquark,\\ngluon-(anti)quark, and gluon-gluon subprocesses are included, as well as\\nall-orders resummation of initial-state gluon radiation valid at\\nnext-to-next-to-leading logarithmic accuracy. The region of phase space is\\nspecified in which the calculation is most reliable. Good agreement is\\ndemonstrated with data from the Fermilab Tevatron, and predictions are made for\\nmore detailed tests with CDF and DO data. Predictions are shown for\\ndistributions of diphoton pairs produced at the energy of the Large Hadron\\nCollider (LHC). Distributions of the diphoton pairs from the decay of a Higgs\\nboson are contrasted with those produced from QCD processes at the LHC, showing\\nthat enhanced sensitivity to the signal can be obtained with judicious\\nselection of events.\\n', 'versions': [{'version': 'v1', 'created': 'Mon, 2 Apr 2007 19:18:42 GMT'}, {'version': 'v2', 'created': 'Tue, 24 Jul 2007 20:10:27 GMT'}], 'update_date': '2008-11-26', 'authors_parsed': [['Balázs', 'C.', ''], ['Berger', 'E. L.', ''], ['Nadolsky', 'P. M.', ''], ['Yuan', 'C. -P.', '']]}, {'id': '0704.0002', 'submitter': 'Louis Theran', 'authors': 'Ileana Streinu and Louis Theran', 'title': 'Sparsity-certifying Graph Decompositions', 'comments': 'To appear in Graphs and Combinatorics', 'journal-ref': None, 'doi': None, 'report-no': None, 'categories': 'math.CO cs.CG', 'license': 'http://arxiv.org/licenses/nonexclusive-distrib/1.0/', 'abstract': '  We describe a new algorithm, the $(k,\\\\ell)$-pebble game with colors, and use\\nit obtain a characterization of the family of $(k,\\\\ell)$-sparse graphs and\\nalgorithmic solutions to a family of problems concerning tree decompositions of\\ngraphs. Special instances of sparse graphs appear in rigidity theory and have\\nreceived increased attention in recent years. In particular, our colored\\npebbles generalize and strengthen the previous results of Lee and Streinu and\\ngive a new proof of the Tutte-Nash-Williams characterization of arboricity. We\\nalso present a new decomposition that certifies sparsity based on the\\n$(k,\\\\ell)$-pebble game with colors. Our work also exposes connections between\\npebble game algorithms and previous sparse graph algorithms by Gabow, Gabow and\\nWestermann and Hendrickson.\\n', 'versions': [{'version': 'v1', 'created': 'Sat, 31 Mar 2007 02:26:18 GMT'}, {'version': 'v2', 'created': 'Sat, 13 Dec 2008 17:26:00 GMT'}], 'update_date': '2008-12-13', 'authors_parsed': [['Streinu', 'Ileana', ''], ['Theran', 'Louis', '']]}]\n"
          ]
        }
      ],
      "source": [
        "print(rdd.take(2))"
      ]
    },
    {
      "cell_type": "markdown",
      "metadata": {
        "id": "GgSYUgiQ81Ux"
      },
      "source": [
        "## Question 3: Get all attributes\n"
      ]
    },
    {
      "cell_type": "code",
      "execution_count": 9,
      "metadata": {
        "id": "4_hnOy9V81Uy",
        "colab": {
          "base_uri": "https://localhost:8080/"
        },
        "outputId": "b052718a-dee0-4fba-87b9-00fb35460a2d"
      },
      "outputs": [
        {
          "output_type": "execute_result",
          "data": {
            "text/plain": [
              "['authors',\n",
              " 'comments',\n",
              " 'title',\n",
              " 'id',\n",
              " 'journal-ref',\n",
              " 'versions',\n",
              " 'submitter',\n",
              " 'categories',\n",
              " 'update_date',\n",
              " 'authors_parsed',\n",
              " 'report-no',\n",
              " 'license',\n",
              " 'abstract',\n",
              " 'doi']"
            ]
          },
          "metadata": {},
          "execution_count": 9
        }
      ],
      "source": [
        "rdd.flatMap(lambda x :x.keys()).distinct().collect()"
      ]
    },
    {
      "cell_type": "markdown",
      "metadata": {
        "id": "iGaQWri681Uy"
      },
      "source": [
        "## Question 4: Get the name of the licenses"
      ]
    },
    {
      "cell_type": "code",
      "execution_count": 11,
      "metadata": {
        "id": "JjUWgHMs81Uy",
        "colab": {
          "base_uri": "https://localhost:8080/"
        },
        "outputId": "743757df-1ac6-4d16-a4cf-5133444ffbb0"
      },
      "outputs": [
        {
          "output_type": "execute_result",
          "data": {
            "text/plain": [
              "[None,\n",
              " 'http://creativecommons.org/licenses/publicdomain/',\n",
              " 'http://creativecommons.org/licenses/by-nc-nd/4.0/',\n",
              " 'http://creativecommons.org/licenses/by-nc-sa/4.0/',\n",
              " 'http://creativecommons.org/licenses/by-nc-sa/3.0/',\n",
              " 'http://creativecommons.org/licenses/by/3.0/',\n",
              " 'http://creativecommons.org/licenses/by/4.0/',\n",
              " 'http://creativecommons.org/publicdomain/zero/1.0/',\n",
              " 'http://arxiv.org/licenses/nonexclusive-distrib/1.0/',\n",
              " 'http://creativecommons.org/licenses/by-sa/4.0/']"
            ]
          },
          "metadata": {},
          "execution_count": 11
        }
      ],
      "source": [
        "rdd.map(lambda x : x[\"license\"]).distinct().collect()"
      ]
    },
    {
      "cell_type": "markdown",
      "metadata": {
        "id": "_giGZDm981Uz"
      },
      "source": [
        "## Question 5: Get the shortest and the longest titles"
      ]
    },
    {
      "cell_type": "code",
      "execution_count": 13,
      "metadata": {
        "id": "0ujiDBLl81Uz",
        "colab": {
          "base_uri": "https://localhost:8080/"
        },
        "outputId": "0bb93220-b6de-4b4a-d332-9e3e40743360"
      },
      "outputs": [
        {
          "output_type": "stream",
          "name": "stdout",
          "text": [
            "shortest title : !-Graphs with Trivial Overlap are Context-Free\n",
            "longest title : Weyl formula for the negative dissipative eigenvalues of Maxwell's\n",
            "  equations\n"
          ]
        }
      ],
      "source": [
        "shortest_title = rdd.map(lambda x: x[\"title\"]).reduce(lambda x , y : x if x < y else y)\n",
        "longest_title = rdd.map(lambda x: x[\"title\"]).reduce(lambda x , y : x if x > y else y)\n",
        "print(\"shortest title :\",shortest_title)\n",
        "print(\"longest title :\",longest_title)"
      ]
    },
    {
      "cell_type": "markdown",
      "metadata": {
        "id": "c9iSZAe281Uz"
      },
      "source": [
        "## Question 6: Find abbreviations with 5 or more letters in the abstract"
      ]
    },
    {
      "cell_type": "code",
      "execution_count": 14,
      "metadata": {
        "id": "Z1Weltn281U0",
        "colab": {
          "base_uri": "https://localhost:8080/"
        },
        "outputId": "314715e9-74a1-41d6-bb05-7d138dd10469"
      },
      "outputs": [
        {
          "output_type": "execute_result",
          "data": {
            "text/plain": [
              "192721"
            ]
          },
          "metadata": {},
          "execution_count": 14
        }
      ],
      "source": [
        "import re\n",
        "\n",
        "def get_abbrivations(line):\n",
        "    result = re.search(r\"\\(([A-Za-z][^_ /\\\\<>]{5,})\\)\", line)\n",
        "    if result:\n",
        "        return result.group(1) # return 1st match. group (0) will return all the matches\n",
        "rdd.filter(lambda x: get_abbrivations(x['abstract'])).count()"
      ]
    },
    {
      "cell_type": "markdown",
      "metadata": {
        "id": "CnPa1NYL81U0"
      },
      "source": [
        "## Question 7: Get the number of archive records per month ('update_date' attribute)"
      ]
    },
    {
      "cell_type": "code",
      "execution_count": 15,
      "metadata": {
        "id": "0Wsgod6K81U1",
        "colab": {
          "base_uri": "https://localhost:8080/"
        },
        "outputId": "ca09189e-281f-4585-bed2-5ca3c73e61f6"
      },
      "outputs": [
        {
          "output_type": "execute_result",
          "data": {
            "text/plain": [
              "[(1, 134247),\n",
              " (2, 116948),\n",
              " (3, 126458),\n",
              " (4, 117126),\n",
              " (5, 296587),\n",
              " (6, 191746),\n",
              " (7, 122649),\n",
              " (8, 138469),\n",
              " (9, 138978),\n",
              " (10, 197755),\n",
              " (11, 297963),\n",
              " (12, 132305)]"
            ]
          },
          "metadata": {},
          "execution_count": 15
        }
      ],
      "source": [
        "import datetime\n",
        "\n",
        "def extract_date(DateIn):\n",
        "    d = datetime.datetime.strptime(DateIn, \"%Y-%m-%d\")\n",
        "    return d.month\n",
        "\n",
        "# check the function:\n",
        "extract_date('2008-12-13')\n",
        "\n",
        "rdd.map(lambda x: (extract_date(x[\"update_date\"]),1)).reduceByKey(lambda x,y: x+y).collect()\n"
      ]
    },
    {
      "cell_type": "markdown",
      "metadata": {
        "id": "hQu2A93481U1"
      },
      "source": [
        "## Question 8: Get the average number of pages"
      ]
    },
    {
      "cell_type": "code",
      "execution_count": 17,
      "metadata": {
        "id": "Wa1y3OKW81U1"
      },
      "outputs": [],
      "source": [
        "\n",
        "def get_Page(line):\n",
        "    search = re.findall('\\d+ pages', line)\n",
        "    if search:\n",
        "        return int(search[0].split(\" \")[0])\n",
        "    else:\n",
        "        return 0"
      ]
    },
    {
      "cell_type": "code",
      "source": [
        "rdd_average = rdd.map(lambda x: get_Page(x['comments'] if x['comments'] != None else \"None\"))\n",
        "\n",
        "# remove 0:\n",
        "rdd_average = rdd_average.filter(lambda x: x != 0)\n",
        "\n",
        "average_counter = rdd_average.count()\n",
        "avarage_summation = rdd_average.reduce(lambda x,y: int(x)+int(y))\n",
        "\n",
        "print(average_counter)\n",
        "print(avarage_summation)\n",
        "print(\"the average of pages is \", avarage_summation/average_counter)"
      ],
      "metadata": {
        "colab": {
          "base_uri": "https://localhost:8080/"
        },
        "id": "W9Z0yr-DctbS",
        "outputId": "8cbc99f4-07af-49d7-9b18-ec6a74bf28e9"
      },
      "execution_count": 18,
      "outputs": [
        {
          "output_type": "stream",
          "name": "stdout",
          "text": [
            "1184075\n",
            "21139516\n",
            "the average of pages is  17.85319004286046\n"
          ]
        }
      ]
    }
  ],
  "metadata": {
    "kernelspec": {
      "display_name": "Python 3",
      "language": "python",
      "name": "python3"
    },
    "language_info": {
      "codemirror_mode": {
        "name": "ipython",
        "version": 3
      },
      "file_extension": ".py",
      "mimetype": "text/x-python",
      "name": "python",
      "nbconvert_exporter": "python",
      "pygments_lexer": "ipython3",
      "version": "3.8.3"
    },
    "colab": {
      "provenance": [],
      "include_colab_link": true
    }
  },
  "nbformat": 4,
  "nbformat_minor": 0
}