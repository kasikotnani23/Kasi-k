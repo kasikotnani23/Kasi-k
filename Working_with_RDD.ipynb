{
  "nbformat": 4,
  "nbformat_minor": 0,
  "metadata": {
    "kernelspec": {
      "display_name": "Python 3",
      "language": "python",
      "name": "python3"
    },
    "language_info": {
      "codemirror_mode": {
        "name": "ipython",
        "version": 3
      },
      "file_extension": ".py",
      "mimetype": "text/x-python",
      "name": "python",
      "nbconvert_exporter": "python",
      "pygments_lexer": "ipython3",
      "version": "3.8.3"
    },
    "colab": {
      "provenance": [],
      "include_colab_link": true
    }
  },
  "cells": [
    {
      "cell_type": "markdown",
      "metadata": {
        "id": "view-in-github",
        "colab_type": "text"
      },
      "source": [
        "<a href=\"https://colab.research.google.com/github/kasikotnani23/Kasi-k/blob/main/Working_with_RDD.ipynb\" target=\"_parent\"><img src=\"https://colab.research.google.com/assets/colab-badge.svg\" alt=\"Open In Colab\"/></a>"
      ]
    },
    {
      "cell_type": "markdown",
      "metadata": {
        "id": "gjuAVgrxmIo3"
      },
      "source": [
        "# **Working with RDD (Resilient Distributed Dataset)**\n",
        "\n",
        "**`Udemy Course: Best Hands-on Big Data Practices and Use Cases using PySpark`**\n",
        "\n",
        "**`Author: Amin Karami (PhD, FHEA)`**\n",
        "\n",
        "---\n",
        "\n",
        "**Resilient Distributed Dataset (RDD)**: RDD is the fundamental data structure of Spark. It is fault-tolerant (resilient) and immutable distributed collections of any type of objects.\n",
        "\n",
        "source: https://spark.apache.org/docs/latest/rdd-programming-guide.html\n",
        "\n",
        "source: https://spark.apache.org/docs/latest/api/python/reference/"
      ]
    },
    {
      "cell_type": "code",
      "metadata": {
        "id": "0LWTJaC8mHL5",
        "colab": {
          "base_uri": "https://localhost:8080/"
        },
        "outputId": "8f01b3c5-52f5-4cc8-d885-262449afd486"
      },
      "source": [
        "########## ONLY in Colab ##########\n",
        "!pip3 install pyspark\n",
        "########## ONLY in Colab ##########"
      ],
      "execution_count": 1,
      "outputs": [
        {
          "output_type": "stream",
          "name": "stdout",
          "text": [
            "Looking in indexes: https://pypi.org/simple, https://us-python.pkg.dev/colab-wheels/public/simple/\n",
            "Collecting pyspark\n",
            "  Downloading pyspark-3.3.2.tar.gz (281.4 MB)\n",
            "\u001b[2K     \u001b[90m━━━━━━━━━━━━━━━━━━━━━━━━━━━━━━━━━━━━━━━\u001b[0m \u001b[32m281.4/281.4 MB\u001b[0m \u001b[31m3.8 MB/s\u001b[0m eta \u001b[36m0:00:00\u001b[0m\n",
            "\u001b[?25h  Preparing metadata (setup.py) ... \u001b[?25l\u001b[?25hdone\n",
            "Collecting py4j==0.10.9.5\n",
            "  Downloading py4j-0.10.9.5-py2.py3-none-any.whl (199 kB)\n",
            "\u001b[2K     \u001b[90m━━━━━━━━━━━━━━━━━━━━━━━━━━━━━━━━━━━━━━\u001b[0m \u001b[32m199.7/199.7 KB\u001b[0m \u001b[31m15.5 MB/s\u001b[0m eta \u001b[36m0:00:00\u001b[0m\n",
            "\u001b[?25hBuilding wheels for collected packages: pyspark\n",
            "  Building wheel for pyspark (setup.py) ... \u001b[?25l\u001b[?25hdone\n",
            "  Created wheel for pyspark: filename=pyspark-3.3.2-py2.py3-none-any.whl size=281824028 sha256=8f205e94096e0864ad99c9275b92fdf8319207402af52cfcb44e9055bcb55a23\n",
            "  Stored in directory: /root/.cache/pip/wheels/6c/e3/9b/0525ce8a69478916513509d43693511463c6468db0de237c86\n",
            "Successfully built pyspark\n",
            "Installing collected packages: py4j, pyspark\n",
            "  Attempting uninstall: py4j\n",
            "    Found existing installation: py4j 0.10.9.7\n",
            "    Uninstalling py4j-0.10.9.7:\n",
            "      Successfully uninstalled py4j-0.10.9.7\n",
            "Successfully installed py4j-0.10.9.5 pyspark-3.3.2\n"
          ]
        }
      ]
    },
    {
      "cell_type": "code",
      "source": [
        "# Linking with Spark\n",
        "from pyspark import SparkContext, SparkConf"
      ],
      "metadata": {
        "id": "e3pTfRiwTMeY"
      },
      "execution_count": 2,
      "outputs": []
    },
    {
      "cell_type": "code",
      "source": [
        "# Initializing Spark\n",
        "conf = SparkConf().setAppName(\"RDD_practice\").setMaster(\"local[*]\")\n",
        "sc = SparkContext(conf=conf)\n",
        "print(sc)"
      ],
      "metadata": {
        "id": "A_ALGTfeTPN-",
        "colab": {
          "base_uri": "https://localhost:8080/"
        },
        "outputId": "4e8511da-d9a5-41be-929d-3c06995281ec"
      },
      "execution_count": 3,
      "outputs": [
        {
          "output_type": "stream",
          "name": "stdout",
          "text": [
            "<SparkContext master=local[*] appName=RDD_practice>\n"
          ]
        }
      ]
    },
    {
      "cell_type": "markdown",
      "source": [
        "# **Part 1: Create RDDs and Basic Operations**\n",
        "# **There are two ways to create RDDs:**\n",
        "\n",
        "1.   Parallelizing an existing collection in your driver program\n",
        "2.   Referencing a dataset in an external storage system, such as a shared filesystem, HDFS, HBase, or any data source offering a Hadoop InputFormat."
      ],
      "metadata": {
        "id": "quQ_GBpgWLRK"
      }
    },
    {
      "cell_type": "code",
      "source": [
        "# Generate random \n",
        "import random \n",
        "random_list = random.sample(range(1,19),10)\n",
        "print(random_list)"
      ],
      "metadata": {
        "id": "ILkhrdMMTu9m",
        "colab": {
          "base_uri": "https://localhost:8080/"
        },
        "outputId": "9bbb9c80-7023-4178-f9ce-053de99f58e5"
      },
      "execution_count": 42,
      "outputs": [
        {
          "output_type": "stream",
          "name": "stdout",
          "text": [
            "[9, 11, 12, 4, 10, 14, 6, 18, 15, 16]\n"
          ]
        }
      ]
    },
    {
      "cell_type": "code",
      "source": [
        "# Create RDD:\n",
        "rdd1 = sc.parallelize(random_list,4)\n",
        "print(rdd1.collect())\n",
        "print(rdd1.getNumPartitions())\n",
        "rdd1.glom().collect()"
      ],
      "metadata": {
        "id": "1n39Bv24XHjt",
        "colab": {
          "base_uri": "https://localhost:8080/"
        },
        "outputId": "fca02415-d421-4237-eab2-e43ab125601e"
      },
      "execution_count": 48,
      "outputs": [
        {
          "output_type": "stream",
          "name": "stdout",
          "text": [
            "[9, 11, 12, 4, 10, 14, 6, 18, 15, 16]\n",
            "4\n"
          ]
        },
        {
          "output_type": "execute_result",
          "data": {
            "text/plain": [
              "[[9, 11], [12, 4], [10, 14], [6, 18, 15, 16]]"
            ]
          },
          "metadata": {},
          "execution_count": 48
        }
      ]
    },
    {
      "cell_type": "code",
      "source": [
        "# Data distribution in partitions:\n",
        "print(rdd1.getNumPartitions())\n",
        "print(rdd1.glom().collect())\n",
        "print(\"Two partitions: \", rdd1.glom().take(2))\n"
      ],
      "metadata": {
        "id": "b8aOYoMLX7Er",
        "colab": {
          "base_uri": "https://localhost:8080/"
        },
        "outputId": "47965ab4-ad84-41ef-d2b0-3bfb10905eb5"
      },
      "execution_count": 49,
      "outputs": [
        {
          "output_type": "stream",
          "name": "stdout",
          "text": [
            "4\n",
            "[[9, 11], [12, 4], [10, 14], [6, 18, 15, 16]]\n",
            "Two partitions:  [[9, 11], [12, 4]]\n"
          ]
        }
      ]
    },
    {
      "cell_type": "code",
      "source": [
        "# Print last partition\n",
        "for item in rdd1.glom().collect()[3]:\n",
        "  print(item)"
      ],
      "metadata": {
        "id": "9EffFOyTYC18",
        "colab": {
          "base_uri": "https://localhost:8080/"
        },
        "outputId": "e4d2630d-fe64-44c4-abef-214c1c0b6e52"
      },
      "execution_count": 50,
      "outputs": [
        {
          "output_type": "stream",
          "name": "stdout",
          "text": [
            "6\n",
            "18\n",
            "15\n",
            "16\n"
          ]
        }
      ]
    },
    {
      "cell_type": "code",
      "source": [
        "# count():\n",
        "rdd1.count()"
      ],
      "metadata": {
        "id": "9TL1kG-Ceo6E",
        "colab": {
          "base_uri": "https://localhost:8080/"
        },
        "outputId": "2846923c-f95e-4fd3-d197-5b44e8f02432"
      },
      "execution_count": 51,
      "outputs": [
        {
          "output_type": "execute_result",
          "data": {
            "text/plain": [
              "10"
            ]
          },
          "metadata": {},
          "execution_count": 51
        }
      ]
    },
    {
      "cell_type": "code",
      "source": [
        "# first():\n",
        "rdd1.first()"
      ],
      "metadata": {
        "id": "gZmfAahXeryY",
        "colab": {
          "base_uri": "https://localhost:8080/"
        },
        "outputId": "474ca116-f818-4fe4-daed-372306aff34c"
      },
      "execution_count": 52,
      "outputs": [
        {
          "output_type": "execute_result",
          "data": {
            "text/plain": [
              "9"
            ]
          },
          "metadata": {},
          "execution_count": 52
        }
      ]
    },
    {
      "cell_type": "code",
      "source": [
        "# top():\n",
        "rdd1.top(2)"
      ],
      "metadata": {
        "id": "OnuGXcKLb8qa",
        "colab": {
          "base_uri": "https://localhost:8080/"
        },
        "outputId": "a7d03251-daad-4606-d888-e913f8978123"
      },
      "execution_count": 53,
      "outputs": [
        {
          "output_type": "execute_result",
          "data": {
            "text/plain": [
              "[18, 16]"
            ]
          },
          "metadata": {},
          "execution_count": 53
        }
      ]
    },
    {
      "cell_type": "code",
      "source": [
        "# distinct():\n",
        "rdd1.distinct().collect()"
      ],
      "metadata": {
        "id": "3xOj1w6teN_a",
        "colab": {
          "base_uri": "https://localhost:8080/"
        },
        "outputId": "813c5c8e-be20-4840-d212-9ed12db5bcfb"
      },
      "execution_count": 54,
      "outputs": [
        {
          "output_type": "execute_result",
          "data": {
            "text/plain": [
              "[12, 4, 16, 9, 10, 14, 6, 18, 11, 15]"
            ]
          },
          "metadata": {},
          "execution_count": 54
        }
      ]
    },
    {
      "cell_type": "code",
      "source": [
        "# map():\n",
        "rdd_map = rdd1.map(lambda x : x+2)\n",
        "print(rdd_map.collect())"
      ],
      "metadata": {
        "id": "qE0CJuhlZz1M",
        "colab": {
          "base_uri": "https://localhost:8080/"
        },
        "outputId": "adb504cf-a8d4-465f-f77b-0e5872df50ca"
      },
      "execution_count": 55,
      "outputs": [
        {
          "output_type": "stream",
          "name": "stdout",
          "text": [
            "[11, 13, 14, 6, 12, 16, 8, 20, 17, 18]\n"
          ]
        }
      ]
    },
    {
      "cell_type": "code",
      "source": [
        "# filter(): \n",
        "print(rdd1.collect())\n",
        "rdd_filter = rdd1.filter(lambda x:x%3 == 0)\n",
        "print(rdd_filter.collect())"
      ],
      "metadata": {
        "id": "r804677wamjY",
        "colab": {
          "base_uri": "https://localhost:8080/"
        },
        "outputId": "7bdeedf6-996e-41be-b86d-c365ceeeb60c"
      },
      "execution_count": 56,
      "outputs": [
        {
          "output_type": "stream",
          "name": "stdout",
          "text": [
            "[9, 11, 12, 4, 10, 14, 6, 18, 15, 16]\n",
            "[9, 12, 6, 18, 15]\n"
          ]
        }
      ]
    },
    {
      "cell_type": "code",
      "source": [
        "# flatMap():\n",
        "rdd_flatmap = rdd1.flatMap(lambda x : (x+3,x+5))\n",
        "print(rdd_flatmap.glom().collect())\n",
        "print(rdd_flatmap.collect())\n",
        "print(rdd_flatmap.reduce(lambda a,b: a + b))"
      ],
      "metadata": {
        "id": "9f--VFpvaqRj",
        "colab": {
          "base_uri": "https://localhost:8080/"
        },
        "outputId": "f100cd16-e514-4954-f83c-93129f1cb13a"
      },
      "execution_count": 71,
      "outputs": [
        {
          "output_type": "stream",
          "name": "stdout",
          "text": [
            "[[12, 14, 14, 16], [15, 17, 7, 9], [13, 15, 17, 19], [9, 11, 21, 23, 18, 20, 19, 21]]\n",
            "[12, 14, 14, 16, 15, 17, 7, 9, 13, 15, 17, 19, 9, 11, 21, 23, 18, 20, 19, 21]\n",
            "310\n"
          ]
        }
      ]
    },
    {
      "cell_type": "code",
      "source": [
        "# Descriptive statistics:\n",
        "print((rdd1.max(),rdd1.min(),rdd1.mean(),rdd1.sum(),rdd1.top(2),round(rdd1.stdev(),2)))"
      ],
      "metadata": {
        "id": "1LSPGU35gk-q",
        "colab": {
          "base_uri": "https://localhost:8080/"
        },
        "outputId": "1efc16ee-cb35-4bbb-8a6d-efd6d63b4a48"
      },
      "execution_count": 70,
      "outputs": [
        {
          "output_type": "stream",
          "name": "stdout",
          "text": [
            "(18, 4, 11.5, 115, [18, 16], 4.2)\n"
          ]
        }
      ]
    },
    {
      "cell_type": "code",
      "source": [
        "# mapPartitions():\n",
        "def myfunc(partition):\n",
        "  sum = 0\n",
        "  for item in partition:\n",
        "    sum = sum + item \n",
        "  yield sum\n",
        "rdd1.mapPartitions(myfunc).collect()\n"
      ],
      "metadata": {
        "id": "PEKBDcW1bvZe",
        "colab": {
          "base_uri": "https://localhost:8080/"
        },
        "outputId": "01334340-0e7a-4a89-a38d-fe2192a7ad92"
      },
      "execution_count": 72,
      "outputs": [
        {
          "output_type": "execute_result",
          "data": {
            "text/plain": [
              "[20, 16, 24, 55]"
            ]
          },
          "metadata": {},
          "execution_count": 72
        }
      ]
    },
    {
      "cell_type": "markdown",
      "source": [
        "# **Part 2: Advanced RDD Transformations and Actions**"
      ],
      "metadata": {
        "id": "EGi2zdncaoHo"
      }
    },
    {
      "cell_type": "code",
      "source": [
        "# union():\n",
        "random_list1 = random.sample(range(1,25),10)\n",
        "print(random_list1)\n",
        "rdd2 = sc.parallelize(random_list1 , 4)\n",
        "print(rdd2.glom().collect())\n",
        "rdd_union = rdd1.union(rdd2)\n",
        "print(rdd_union.collect())"
      ],
      "metadata": {
        "id": "bIKu4KMrdt1k",
        "colab": {
          "base_uri": "https://localhost:8080/"
        },
        "outputId": "cd8b8b8b-8d5a-45d4-9557-42cc3664865f"
      },
      "execution_count": 77,
      "outputs": [
        {
          "output_type": "stream",
          "name": "stdout",
          "text": [
            "[6, 5, 15, 14, 12, 1, 24, 8, 17, 20]\n",
            "[[6, 5], [15, 14], [12, 1], [24, 8, 17, 20]]\n",
            "[9, 11, 12, 4, 10, 14, 6, 18, 15, 16, 6, 5, 15, 14, 12, 1, 24, 8, 17, 20]\n"
          ]
        }
      ]
    },
    {
      "cell_type": "code",
      "source": [
        "# intersection():\n",
        "rdd_intersection = rdd1.intersection(rdd2)\n",
        "print(rdd_intersection.glom().collect())"
      ],
      "metadata": {
        "id": "DmQ3bNUkeMVk",
        "colab": {
          "base_uri": "https://localhost:8080/"
        },
        "outputId": "6028a397-b398-423f-a05a-8b854d13a7ff"
      },
      "execution_count": 79,
      "outputs": [
        {
          "output_type": "stream",
          "name": "stdout",
          "text": [
            "[[], [], [], [], [12], [], [14, 6], [15]]\n"
          ]
        }
      ]
    },
    {
      "cell_type": "code",
      "source": [
        "# Find empty partitions\n",
        "counter = 0\n",
        "for item in rdd_intersection.glom().collect():\n",
        "  if len(item) == 0:\n",
        "    counter = counter+1\n",
        "print(counter)\n"
      ],
      "metadata": {
        "id": "E2g0ep9M8GX8",
        "colab": {
          "base_uri": "https://localhost:8080/"
        },
        "outputId": "6d220e29-eef2-43a7-b7e4-4949fffaba60"
      },
      "execution_count": 82,
      "outputs": [
        {
          "output_type": "stream",
          "name": "stdout",
          "text": [
            "5\n"
          ]
        }
      ]
    },
    {
      "cell_type": "code",
      "source": [
        "# coalesce(numPartitions):\n",
        "rdd_colace = rdd_intersection.coalesce(1)\n",
        "print(rdd_colace.glom().collect())"
      ],
      "metadata": {
        "id": "-AopsaZqehmA",
        "colab": {
          "base_uri": "https://localhost:8080/"
        },
        "outputId": "a638c79c-1b23-45bd-bcf5-6d7efeec961c"
      },
      "execution_count": 85,
      "outputs": [
        {
          "output_type": "stream",
          "name": "stdout",
          "text": [
            "[[12, 14, 6, 15]]\n"
          ]
        }
      ]
    },
    {
      "cell_type": "code",
      "source": [
        "# takeSample(withReplacement, num, [seed])\n",
        "# This method should only be used if the resulting array is expected to be small, as all the data is loaded into the driver’s memory.\n",
        "rdd2.takeSample(False, 5)"
      ],
      "metadata": {
        "id": "OFjDbelJeuoq",
        "colab": {
          "base_uri": "https://localhost:8080/"
        },
        "outputId": "517ae266-4eef-429e-a4a6-18c954a20f66"
      },
      "execution_count": 89,
      "outputs": [
        {
          "output_type": "execute_result",
          "data": {
            "text/plain": [
              "[24, 8, 5, 14, 1]"
            ]
          },
          "metadata": {},
          "execution_count": 89
        }
      ]
    },
    {
      "cell_type": "code",
      "source": [
        "# takeOrdered(n, [ordering])\n",
        "print(rdd2.collect())\n",
        "print(rdd2.takeOrdered(5))\n",
        "print(rdd2.takeOrdered(5 , lambda x: -x))\n"
      ],
      "metadata": {
        "id": "_K41G_W9ezhS",
        "colab": {
          "base_uri": "https://localhost:8080/"
        },
        "outputId": "930d8aec-652c-4618-d4a0-98d414c29db2"
      },
      "execution_count": 93,
      "outputs": [
        {
          "output_type": "stream",
          "name": "stdout",
          "text": [
            "[6, 5, 15, 14, 12, 1, 24, 8, 17, 20]\n",
            "[1, 5, 6, 8, 12]\n",
            "[24, 20, 17, 15, 14]\n"
          ]
        }
      ]
    },
    {
      "cell_type": "code",
      "source": [
        "# reduce():\n",
        "rdd2.reduce(lambda x,y : x+y)"
      ],
      "metadata": {
        "id": "sgBhaTdAeldY",
        "colab": {
          "base_uri": "https://localhost:8080/"
        },
        "outputId": "05ce4f33-577e-4351-d95f-10e4d1300476"
      },
      "execution_count": 94,
      "outputs": [
        {
          "output_type": "execute_result",
          "data": {
            "text/plain": [
              "122"
            ]
          },
          "metadata": {},
          "execution_count": 94
        }
      ]
    },
    {
      "cell_type": "code",
      "source": [
        "# reduceByKey():\n",
        "rdd_Rbk = sc.parallelize([(1,4),(7,10),(5,7),(1,12),(7,12),(7,1),(9,1),(7,4)], 2)\n",
        "print(rdd_Rbk.collect())\n",
        "print(rdd_Rbk.reduceByKey(lambda x,y: x+y).collect())\n",
        "\n",
        "\n",
        "# tabular visualization\n",
        "import pandas as pd\n",
        "Counter = pd.DataFrame({'Key': rdd_Rbk.keys().collect(),\n",
        "                 'Values': rdd_Rbk.values().collect()})\n",
        "Counter"
      ],
      "metadata": {
        "id": "aj8-Q40_eXT2",
        "colab": {
          "base_uri": "https://localhost:8080/",
          "height": 335
        },
        "outputId": "ef80d539-f3c0-488b-e76f-9bc2125077e1"
      },
      "execution_count": 96,
      "outputs": [
        {
          "output_type": "stream",
          "name": "stdout",
          "text": [
            "[(1, 4), (7, 10), (5, 7), (1, 12), (7, 12), (7, 1), (9, 1), (7, 4)]\n",
            "[(1, 16), (7, 27), (5, 7), (9, 1)]\n"
          ]
        },
        {
          "output_type": "execute_result",
          "data": {
            "text/plain": [
              "   Key  Values\n",
              "0    1       4\n",
              "1    7      10\n",
              "2    5       7\n",
              "3    1      12\n",
              "4    7      12\n",
              "5    7       1\n",
              "6    9       1\n",
              "7    7       4"
            ],
            "text/html": [
              "\n",
              "  <div id=\"df-e4a156f0-2568-43a2-b529-2da41afc841b\">\n",
              "    <div class=\"colab-df-container\">\n",
              "      <div>\n",
              "<style scoped>\n",
              "    .dataframe tbody tr th:only-of-type {\n",
              "        vertical-align: middle;\n",
              "    }\n",
              "\n",
              "    .dataframe tbody tr th {\n",
              "        vertical-align: top;\n",
              "    }\n",
              "\n",
              "    .dataframe thead th {\n",
              "        text-align: right;\n",
              "    }\n",
              "</style>\n",
              "<table border=\"1\" class=\"dataframe\">\n",
              "  <thead>\n",
              "    <tr style=\"text-align: right;\">\n",
              "      <th></th>\n",
              "      <th>Key</th>\n",
              "      <th>Values</th>\n",
              "    </tr>\n",
              "  </thead>\n",
              "  <tbody>\n",
              "    <tr>\n",
              "      <th>0</th>\n",
              "      <td>1</td>\n",
              "      <td>4</td>\n",
              "    </tr>\n",
              "    <tr>\n",
              "      <th>1</th>\n",
              "      <td>7</td>\n",
              "      <td>10</td>\n",
              "    </tr>\n",
              "    <tr>\n",
              "      <th>2</th>\n",
              "      <td>5</td>\n",
              "      <td>7</td>\n",
              "    </tr>\n",
              "    <tr>\n",
              "      <th>3</th>\n",
              "      <td>1</td>\n",
              "      <td>12</td>\n",
              "    </tr>\n",
              "    <tr>\n",
              "      <th>4</th>\n",
              "      <td>7</td>\n",
              "      <td>12</td>\n",
              "    </tr>\n",
              "    <tr>\n",
              "      <th>5</th>\n",
              "      <td>7</td>\n",
              "      <td>1</td>\n",
              "    </tr>\n",
              "    <tr>\n",
              "      <th>6</th>\n",
              "      <td>9</td>\n",
              "      <td>1</td>\n",
              "    </tr>\n",
              "    <tr>\n",
              "      <th>7</th>\n",
              "      <td>7</td>\n",
              "      <td>4</td>\n",
              "    </tr>\n",
              "  </tbody>\n",
              "</table>\n",
              "</div>\n",
              "      <button class=\"colab-df-convert\" onclick=\"convertToInteractive('df-e4a156f0-2568-43a2-b529-2da41afc841b')\"\n",
              "              title=\"Convert this dataframe to an interactive table.\"\n",
              "              style=\"display:none;\">\n",
              "        \n",
              "  <svg xmlns=\"http://www.w3.org/2000/svg\" height=\"24px\"viewBox=\"0 0 24 24\"\n",
              "       width=\"24px\">\n",
              "    <path d=\"M0 0h24v24H0V0z\" fill=\"none\"/>\n",
              "    <path d=\"M18.56 5.44l.94 2.06.94-2.06 2.06-.94-2.06-.94-.94-2.06-.94 2.06-2.06.94zm-11 1L8.5 8.5l.94-2.06 2.06-.94-2.06-.94L8.5 2.5l-.94 2.06-2.06.94zm10 10l.94 2.06.94-2.06 2.06-.94-2.06-.94-.94-2.06-.94 2.06-2.06.94z\"/><path d=\"M17.41 7.96l-1.37-1.37c-.4-.4-.92-.59-1.43-.59-.52 0-1.04.2-1.43.59L10.3 9.45l-7.72 7.72c-.78.78-.78 2.05 0 2.83L4 21.41c.39.39.9.59 1.41.59.51 0 1.02-.2 1.41-.59l7.78-7.78 2.81-2.81c.8-.78.8-2.07 0-2.86zM5.41 20L4 18.59l7.72-7.72 1.47 1.35L5.41 20z\"/>\n",
              "  </svg>\n",
              "      </button>\n",
              "      \n",
              "  <style>\n",
              "    .colab-df-container {\n",
              "      display:flex;\n",
              "      flex-wrap:wrap;\n",
              "      gap: 12px;\n",
              "    }\n",
              "\n",
              "    .colab-df-convert {\n",
              "      background-color: #E8F0FE;\n",
              "      border: none;\n",
              "      border-radius: 50%;\n",
              "      cursor: pointer;\n",
              "      display: none;\n",
              "      fill: #1967D2;\n",
              "      height: 32px;\n",
              "      padding: 0 0 0 0;\n",
              "      width: 32px;\n",
              "    }\n",
              "\n",
              "    .colab-df-convert:hover {\n",
              "      background-color: #E2EBFA;\n",
              "      box-shadow: 0px 1px 2px rgba(60, 64, 67, 0.3), 0px 1px 3px 1px rgba(60, 64, 67, 0.15);\n",
              "      fill: #174EA6;\n",
              "    }\n",
              "\n",
              "    [theme=dark] .colab-df-convert {\n",
              "      background-color: #3B4455;\n",
              "      fill: #D2E3FC;\n",
              "    }\n",
              "\n",
              "    [theme=dark] .colab-df-convert:hover {\n",
              "      background-color: #434B5C;\n",
              "      box-shadow: 0px 1px 3px 1px rgba(0, 0, 0, 0.15);\n",
              "      filter: drop-shadow(0px 1px 2px rgba(0, 0, 0, 0.3));\n",
              "      fill: #FFFFFF;\n",
              "    }\n",
              "  </style>\n",
              "\n",
              "      <script>\n",
              "        const buttonEl =\n",
              "          document.querySelector('#df-e4a156f0-2568-43a2-b529-2da41afc841b button.colab-df-convert');\n",
              "        buttonEl.style.display =\n",
              "          google.colab.kernel.accessAllowed ? 'block' : 'none';\n",
              "\n",
              "        async function convertToInteractive(key) {\n",
              "          const element = document.querySelector('#df-e4a156f0-2568-43a2-b529-2da41afc841b');\n",
              "          const dataTable =\n",
              "            await google.colab.kernel.invokeFunction('convertToInteractive',\n",
              "                                                     [key], {});\n",
              "          if (!dataTable) return;\n",
              "\n",
              "          const docLinkHtml = 'Like what you see? Visit the ' +\n",
              "            '<a target=\"_blank\" href=https://colab.research.google.com/notebooks/data_table.ipynb>data table notebook</a>'\n",
              "            + ' to learn more about interactive tables.';\n",
              "          element.innerHTML = '';\n",
              "          dataTable['output_type'] = 'display_data';\n",
              "          await google.colab.output.renderOutput(dataTable, element);\n",
              "          const docLink = document.createElement('div');\n",
              "          docLink.innerHTML = docLinkHtml;\n",
              "          element.appendChild(docLink);\n",
              "        }\n",
              "      </script>\n",
              "    </div>\n",
              "  </div>\n",
              "  "
            ]
          },
          "metadata": {},
          "execution_count": 96
        }
      ]
    },
    {
      "cell_type": "code",
      "source": [
        "# sortByKey():\n",
        "rdd_Rbk.reduceByKey(lambda x,y: x+y).sortByKey().collect()\n",
        "\n"
      ],
      "metadata": {
        "id": "Ii8M3qNMeaHC",
        "colab": {
          "base_uri": "https://localhost:8080/"
        },
        "outputId": "70facdd6-99d4-4bab-a2c2-b0f86bd483d4"
      },
      "execution_count": 97,
      "outputs": [
        {
          "output_type": "execute_result",
          "data": {
            "text/plain": [
              "[(1, 16), (5, 7), (7, 27), (9, 1)]"
            ]
          },
          "metadata": {},
          "execution_count": 97
        }
      ]
    },
    {
      "cell_type": "code",
      "source": [
        "# countByKey()\n",
        "print(rdd_Rbk.countByKey())\n",
        "print(rdd_Rbk.countByKey().items())\n",
        "sorted(rdd_Rbk.countByKey())\n",
        "sorted(rdd_Rbk.countByKey().items())\n"
      ],
      "metadata": {
        "id": "2-WYDKd2e0qf",
        "colab": {
          "base_uri": "https://localhost:8080/"
        },
        "outputId": "115213d2-a9eb-4c37-d73d-5573c5036cd8"
      },
      "execution_count": 103,
      "outputs": [
        {
          "output_type": "stream",
          "name": "stdout",
          "text": [
            "defaultdict(<class 'int'>, {1: 2, 7: 4, 5: 1, 9: 1})\n",
            "dict_items([(1, 2), (7, 4), (5, 1), (9, 1)])\n"
          ]
        },
        {
          "output_type": "execute_result",
          "data": {
            "text/plain": [
              "[(1, 2), (5, 1), (7, 4), (9, 1)]"
            ]
          },
          "metadata": {},
          "execution_count": 103
        }
      ]
    },
    {
      "cell_type": "code",
      "source": [
        "# groupByKey():\n",
        "rdd_groupby = rdd_Rbk.groupByKey()\n",
        "print(rdd_groupby.getNumPartitions())\n",
        "for item in rdd_groupby.collect():\n",
        "  print(item[0], [value for value in item[1]])"
      ],
      "metadata": {
        "id": "bihcXC8DeUEv",
        "colab": {
          "base_uri": "https://localhost:8080/"
        },
        "outputId": "1c4e9938-2832-4a91-94fb-d7c13208f141"
      },
      "execution_count": 107,
      "outputs": [
        {
          "output_type": "stream",
          "name": "stdout",
          "text": [
            "2\n",
            "1 [4, 12]\n",
            "7 [10, 12, 1, 4]\n",
            "5 [7]\n",
            "9 [1]\n"
          ]
        }
      ]
    },
    {
      "cell_type": "code",
      "source": [
        "# lookup(key):\n",
        "rdd_Rbk.lookup(7)"
      ],
      "metadata": {
        "id": "5NzYUXEJhDM9",
        "colab": {
          "base_uri": "https://localhost:8080/"
        },
        "outputId": "b0b3d1a6-c01f-4a41-f3e1-9f5045cd1601"
      },
      "execution_count": 109,
      "outputs": [
        {
          "output_type": "execute_result",
          "data": {
            "text/plain": [
              "[10, 12, 1, 4]"
            ]
          },
          "metadata": {},
          "execution_count": 109
        }
      ]
    },
    {
      "cell_type": "code",
      "source": [
        "# cache:\n",
        "# By default, each transformed RDD may be recomputed each time you run an action on it.\n",
        "# However, you may also persist an RDD in memory using the persist (or cache) method,\n",
        "# in which case Spark will keep the elements around on the cluster for much faster access the next time you query it.\n",
        "rdd_Rbk.persist()"
      ],
      "metadata": {
        "id": "g9ThlLGO6z7u",
        "colab": {
          "base_uri": "https://localhost:8080/"
        },
        "outputId": "5ef927d1-c496-40fc-b781-395b49ff0824"
      },
      "execution_count": 110,
      "outputs": [
        {
          "output_type": "execute_result",
          "data": {
            "text/plain": [
              "ParallelCollectionRDD[200] at readRDDFromFile at PythonRDD.scala:274"
            ]
          },
          "metadata": {},
          "execution_count": 110
        }
      ]
    },
    {
      "cell_type": "code",
      "source": [
        "# Persistence (https://spark.apache.org/docs/latest/rdd-programming-guide.html#rdd-persistence)\n",
        "from pyspark import StorageLevel\n",
        "rdd1.persist(StorageLevel.MEMORY_AND_DISK)\n"
      ],
      "metadata": {
        "id": "5zYpm9hpiqPc",
        "colab": {
          "base_uri": "https://localhost:8080/"
        },
        "outputId": "1a68b18b-5886-40e9-afc7-3cd88d426b55"
      },
      "execution_count": 111,
      "outputs": [
        {
          "output_type": "execute_result",
          "data": {
            "text/plain": [
              "ParallelCollectionRDD[93] at readRDDFromFile at PythonRDD.scala:274"
            ]
          },
          "metadata": {},
          "execution_count": 111
        }
      ]
    }
  ]
}